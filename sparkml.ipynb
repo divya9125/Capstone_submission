{
 "cells": [
  {
   "cell_type": "code",
   "execution_count": 21,
   "metadata": {},
   "outputs": [],
   "source": [
    "from pyspark.sql import SparkSession\n",
    "spark=(SparkSession.builder.appName(\"CapstoneML\").config(\"hive.metastore.uris\",\"thrift://ip-10-1-2-24.ap-south-1.compute.internal:9083\").enableHiveSupport().getOrCreate())"
   ]
  },
  {
   "cell_type": "code",
   "execution_count": 22,
   "metadata": {},
   "outputs": [
    {
     "data": {
      "text/html": [
       "\n",
       "            <div>\n",
       "                <p><b>SparkSession - hive</b></p>\n",
       "                \n",
       "        <div>\n",
       "            <p><b>SparkContext</b></p>\n",
       "\n",
       "            <p><a href=\"http://ip-10-1-1-204.ap-south-1.compute.internal:43006\">Spark UI</a></p>\n",
       "\n",
       "            <dl>\n",
       "              <dt>Version</dt>\n",
       "                <dd><code>v2.4.0</code></dd>\n",
       "              <dt>Master</dt>\n",
       "                <dd><code>local[*]</code></dd>\n",
       "              <dt>AppName</dt>\n",
       "                <dd><code>CapstoneML</code></dd>\n",
       "            </dl>\n",
       "        </div>\n",
       "        \n",
       "            </div>\n",
       "        "
      ],
      "text/plain": [
       "<pyspark.sql.session.SparkSession at 0x7f9f68583090>"
      ]
     },
     "execution_count": 22,
     "metadata": {},
     "output_type": "execute_result"
    }
   ],
   "source": [
    "spark"
   ]
  },
  {
   "cell_type": "code",
   "execution_count": 23,
   "metadata": {},
   "outputs": [],
   "source": [
    "import pandas as pd"
   ]
  },
  {
   "cell_type": "code",
   "execution_count": 24,
   "metadata": {},
   "outputs": [],
   "source": [
    "var6=spark.sql(\"select ee.emp_no,ee.emp_titles_id,ee.birth_date,ee.first_name,ee.last_name,ee.sex,ee.hire_date,ee.no_of_projects,ee.last_performance_rating,ee.left_company,ee.last_date,s.salary,t.title,d.dept_name from anabig114243.employees ee full outer join anabig114243.salaries s  on s.emp_no=ee.emp_no full outer join anabig114243.titles t on ee.emp_titles_id=t.title_id full outer join anabig114243.dept_managers dm on ee.emp_no=dm.emp_no full outer join anabig114243.departments d on dm.dept_no=d.dept_no\")"
   ]
  },
  {
   "cell_type": "code",
   "execution_count": 25,
   "metadata": {},
   "outputs": [
    {
     "data": {
      "text/html": [
       "<div>\n",
       "<style scoped>\n",
       "    .dataframe tbody tr th:only-of-type {\n",
       "        vertical-align: middle;\n",
       "    }\n",
       "\n",
       "    .dataframe tbody tr th {\n",
       "        vertical-align: top;\n",
       "    }\n",
       "\n",
       "    .dataframe thead th {\n",
       "        text-align: right;\n",
       "    }\n",
       "</style>\n",
       "<table border=\"1\" class=\"dataframe\">\n",
       "  <thead>\n",
       "    <tr style=\"text-align: right;\">\n",
       "      <th></th>\n",
       "      <th>emp_no</th>\n",
       "      <th>emp_titles_id</th>\n",
       "      <th>birth_date</th>\n",
       "      <th>first_name</th>\n",
       "      <th>last_name</th>\n",
       "      <th>sex</th>\n",
       "      <th>hire_date</th>\n",
       "      <th>no_of_projects</th>\n",
       "      <th>last_performance_rating</th>\n",
       "      <th>left_company</th>\n",
       "      <th>last_date</th>\n",
       "      <th>salary</th>\n",
       "      <th>title</th>\n",
       "      <th>dept_name</th>\n",
       "    </tr>\n",
       "  </thead>\n",
       "  <tbody>\n",
       "    <tr>\n",
       "      <th>0</th>\n",
       "      <td>110511</td>\n",
       "      <td>m0001</td>\n",
       "      <td>08-07-1957</td>\n",
       "      <td>DeForest</td>\n",
       "      <td>Hagimont</td>\n",
       "      <td>M</td>\n",
       "      <td>01-01-1985</td>\n",
       "      <td>7</td>\n",
       "      <td>A</td>\n",
       "      <td>0</td>\n",
       "      <td>0\\r</td>\n",
       "      <td>48626.0</td>\n",
       "      <td>Manager</td>\n",
       "      <td>development</td>\n",
       "    </tr>\n",
       "    <tr>\n",
       "      <th>1</th>\n",
       "      <td>110567</td>\n",
       "      <td>m0001</td>\n",
       "      <td>25-04-1964</td>\n",
       "      <td>Leon</td>\n",
       "      <td>DasSarma</td>\n",
       "      <td>F</td>\n",
       "      <td>21-10-1986</td>\n",
       "      <td>6</td>\n",
       "      <td>B</td>\n",
       "      <td>0</td>\n",
       "      <td>0\\r</td>\n",
       "      <td>40000.0</td>\n",
       "      <td>Manager</td>\n",
       "      <td>development</td>\n",
       "    </tr>\n",
       "    <tr>\n",
       "      <th>2</th>\n",
       "      <td>111784</td>\n",
       "      <td>m0001</td>\n",
       "      <td>14-06-1956</td>\n",
       "      <td>Marjo</td>\n",
       "      <td>Giarratana</td>\n",
       "      <td>F</td>\n",
       "      <td>12-02-1988</td>\n",
       "      <td>5</td>\n",
       "      <td>A</td>\n",
       "      <td>0</td>\n",
       "      <td>0\\r</td>\n",
       "      <td>40000.0</td>\n",
       "      <td>Manager</td>\n",
       "      <td>Customer Service</td>\n",
       "    </tr>\n",
       "    <tr>\n",
       "      <th>3</th>\n",
       "      <td>111692</td>\n",
       "      <td>m0001</td>\n",
       "      <td>05-10-1954</td>\n",
       "      <td>Tonny</td>\n",
       "      <td>Butterworth</td>\n",
       "      <td>F</td>\n",
       "      <td>01-01-1985</td>\n",
       "      <td>9</td>\n",
       "      <td>C</td>\n",
       "      <td>0</td>\n",
       "      <td>0\\r</td>\n",
       "      <td>40000.0</td>\n",
       "      <td>Manager</td>\n",
       "      <td>Customer Service</td>\n",
       "    </tr>\n",
       "    <tr>\n",
       "      <th>4</th>\n",
       "      <td>111877</td>\n",
       "      <td>m0001</td>\n",
       "      <td>18-10-1962</td>\n",
       "      <td>Xiaobin</td>\n",
       "      <td>Spinelli</td>\n",
       "      <td>F</td>\n",
       "      <td>17-08-1991</td>\n",
       "      <td>7</td>\n",
       "      <td>C</td>\n",
       "      <td>0</td>\n",
       "      <td>0\\r</td>\n",
       "      <td>53846.0</td>\n",
       "      <td>Manager</td>\n",
       "      <td>Customer Service</td>\n",
       "    </tr>\n",
       "    <tr>\n",
       "      <th>...</th>\n",
       "      <td>...</td>\n",
       "      <td>...</td>\n",
       "      <td>...</td>\n",
       "      <td>...</td>\n",
       "      <td>...</td>\n",
       "      <td>...</td>\n",
       "      <td>...</td>\n",
       "      <td>...</td>\n",
       "      <td>...</td>\n",
       "      <td>...</td>\n",
       "      <td>...</td>\n",
       "      <td>...</td>\n",
       "      <td>...</td>\n",
       "      <td>...</td>\n",
       "    </tr>\n",
       "    <tr>\n",
       "      <th>300020</th>\n",
       "      <td>110854</td>\n",
       "      <td>m0001</td>\n",
       "      <td>19-08-1960</td>\n",
       "      <td>Dung</td>\n",
       "      <td>Pesch</td>\n",
       "      <td>M</td>\n",
       "      <td>09-06-1989</td>\n",
       "      <td>2</td>\n",
       "      <td>PIP</td>\n",
       "      <td>0</td>\n",
       "      <td>0\\r</td>\n",
       "      <td>45169.0</td>\n",
       "      <td>Manager</td>\n",
       "      <td>Quality Management</td>\n",
       "    </tr>\n",
       "    <tr>\n",
       "      <th>300021</th>\n",
       "      <td>110765</td>\n",
       "      <td>m0001</td>\n",
       "      <td>22-05-1954</td>\n",
       "      <td>Rutger</td>\n",
       "      <td>Hofmeyr</td>\n",
       "      <td>F</td>\n",
       "      <td>07-01-1989</td>\n",
       "      <td>6</td>\n",
       "      <td>B</td>\n",
       "      <td>0</td>\n",
       "      <td>0\\r</td>\n",
       "      <td>40055.0</td>\n",
       "      <td>Manager</td>\n",
       "      <td>Quality Management</td>\n",
       "    </tr>\n",
       "    <tr>\n",
       "      <th>300022</th>\n",
       "      <td>110725</td>\n",
       "      <td>m0001</td>\n",
       "      <td>14-03-1961</td>\n",
       "      <td>Peternela</td>\n",
       "      <td>Onuegbe</td>\n",
       "      <td>F</td>\n",
       "      <td>01-01-1985</td>\n",
       "      <td>4</td>\n",
       "      <td>A</td>\n",
       "      <td>1</td>\n",
       "      <td>31-03-1996\\r</td>\n",
       "      <td>61357.0</td>\n",
       "      <td>Manager</td>\n",
       "      <td>Quality Management</td>\n",
       "    </tr>\n",
       "    <tr>\n",
       "      <th>300023</th>\n",
       "      <td>111534</td>\n",
       "      <td>m0001</td>\n",
       "      <td>27-06-1952</td>\n",
       "      <td>Hilary</td>\n",
       "      <td>Kambil</td>\n",
       "      <td>F</td>\n",
       "      <td>31-01-1988</td>\n",
       "      <td>5</td>\n",
       "      <td>B</td>\n",
       "      <td>0</td>\n",
       "      <td>0\\r</td>\n",
       "      <td>48077.0</td>\n",
       "      <td>Manager</td>\n",
       "      <td>Research</td>\n",
       "    </tr>\n",
       "    <tr>\n",
       "      <th>300024</th>\n",
       "      <td>111400</td>\n",
       "      <td>m0001</td>\n",
       "      <td>09-11-1959</td>\n",
       "      <td>Arie</td>\n",
       "      <td>Staelin</td>\n",
       "      <td>M</td>\n",
       "      <td>01-01-1985</td>\n",
       "      <td>1</td>\n",
       "      <td>C</td>\n",
       "      <td>0</td>\n",
       "      <td>0\\r</td>\n",
       "      <td>72446.0</td>\n",
       "      <td>Manager</td>\n",
       "      <td>Research</td>\n",
       "    </tr>\n",
       "  </tbody>\n",
       "</table>\n",
       "<p>300025 rows × 14 columns</p>\n",
       "</div>"
      ],
      "text/plain": [
       "        emp_no emp_titles_id  birth_date first_name    last_name sex  \\\n",
       "0       110511         m0001  08-07-1957   DeForest     Hagimont   M   \n",
       "1       110567         m0001  25-04-1964       Leon     DasSarma   F   \n",
       "2       111784         m0001  14-06-1956      Marjo   Giarratana   F   \n",
       "3       111692         m0001  05-10-1954      Tonny  Butterworth   F   \n",
       "4       111877         m0001  18-10-1962    Xiaobin     Spinelli   F   \n",
       "...        ...           ...         ...        ...          ...  ..   \n",
       "300020  110854         m0001  19-08-1960       Dung        Pesch   M   \n",
       "300021  110765         m0001  22-05-1954     Rutger      Hofmeyr   F   \n",
       "300022  110725         m0001  14-03-1961  Peternela      Onuegbe   F   \n",
       "300023  111534         m0001  27-06-1952     Hilary       Kambil   F   \n",
       "300024  111400         m0001  09-11-1959       Arie      Staelin   M   \n",
       "\n",
       "         hire_date  no_of_projects last_performance_rating  left_company  \\\n",
       "0       01-01-1985               7                       A             0   \n",
       "1       21-10-1986               6                       B             0   \n",
       "2       12-02-1988               5                       A             0   \n",
       "3       01-01-1985               9                       C             0   \n",
       "4       17-08-1991               7                       C             0   \n",
       "...            ...             ...                     ...           ...   \n",
       "300020  09-06-1989               2                     PIP             0   \n",
       "300021  07-01-1989               6                       B             0   \n",
       "300022  01-01-1985               4                       A             1   \n",
       "300023  31-01-1988               5                       B             0   \n",
       "300024  01-01-1985               1                       C             0   \n",
       "\n",
       "           last_date   salary    title           dept_name  \n",
       "0                0\\r  48626.0  Manager         development  \n",
       "1                0\\r  40000.0  Manager         development  \n",
       "2                0\\r  40000.0  Manager    Customer Service  \n",
       "3                0\\r  40000.0  Manager    Customer Service  \n",
       "4                0\\r  53846.0  Manager    Customer Service  \n",
       "...              ...      ...      ...                 ...  \n",
       "300020           0\\r  45169.0  Manager  Quality Management  \n",
       "300021           0\\r  40055.0  Manager  Quality Management  \n",
       "300022  31-03-1996\\r  61357.0  Manager  Quality Management  \n",
       "300023           0\\r  48077.0  Manager            Research  \n",
       "300024           0\\r  72446.0  Manager            Research  \n",
       "\n",
       "[300025 rows x 14 columns]"
      ]
     },
     "execution_count": 25,
     "metadata": {},
     "output_type": "execute_result"
    }
   ],
   "source": [
    "var7=var6.toPandas()\n",
    "var7"
   ]
  },
  {
   "cell_type": "code",
   "execution_count": 43,
   "metadata": {},
   "outputs": [],
   "source": [
    "var8=var7.drop(['first_name','last_name','emp_no','emp_titles_id','birth_date','hire_date','last_date',],axis='columns')\n"
   ]
  },
  {
   "cell_type": "code",
   "execution_count": 31,
   "metadata": {},
   "outputs": [],
   "source": [
    "from sklearn.ensemble import RandomForestClassifier\n",
    "import numpy as np\n",
    "np.random.seed(0)\n",
    "from pyspark.mllib.stat import Statistics\n",
    "import matplotlib.pyplot as plt\n",
    "import seaborn as sns"
   ]
  },
  {
   "cell_type": "code",
   "execution_count": 44,
   "metadata": {},
   "outputs": [
    {
     "data": {
      "text/plain": [
       "sex                        False\n",
       "no_of_projects             False\n",
       "last_performance_rating    False\n",
       "left_company               False\n",
       "salary                      True\n",
       "title                       True\n",
       "dept_name                   True\n",
       "dtype: bool"
      ]
     },
     "execution_count": 44,
     "metadata": {},
     "output_type": "execute_result"
    }
   ],
   "source": [
    "#Check for Missing Values\n",
    "var8.isnull().any()\n"
   ]
  },
  {
   "cell_type": "code",
   "execution_count": 45,
   "metadata": {},
   "outputs": [
    {
     "data": {
      "text/plain": [
       "sex                         object\n",
       "no_of_projects               int32\n",
       "last_performance_rating     object\n",
       "left_company                 int32\n",
       "salary                     float64\n",
       "title                       object\n",
       "dept_name                   object\n",
       "dtype: object"
      ]
     },
     "execution_count": 45,
     "metadata": {},
     "output_type": "execute_result"
    }
   ],
   "source": [
    "var8.dtypes\n",
    "\n"
   ]
  },
  {
   "cell_type": "code",
   "execution_count": 34,
   "metadata": {},
   "outputs": [
    {
     "data": {
      "text/plain": [
       "0    270158\n",
       "1     29867\n",
       "Name: left_company, dtype: int64"
      ]
     },
     "execution_count": 34,
     "metadata": {},
     "output_type": "execute_result"
    }
   ],
   "source": [
    "# 0-Those who are still working and 1-those who left the company  \n",
    "var8['left_company'].value_counts()"
   ]
  },
  {
   "cell_type": "markdown",
   "metadata": {},
   "source": [
    "#### those who left the company are less than 1 percent"
   ]
  },
  {
   "cell_type": "code",
   "execution_count": 35,
   "metadata": {},
   "outputs": [
    {
     "data": {
      "text/html": [
       "<div>\n",
       "<style scoped>\n",
       "    .dataframe tbody tr th:only-of-type {\n",
       "        vertical-align: middle;\n",
       "    }\n",
       "\n",
       "    .dataframe tbody tr th {\n",
       "        vertical-align: top;\n",
       "    }\n",
       "\n",
       "    .dataframe thead th {\n",
       "        text-align: right;\n",
       "    }\n",
       "</style>\n",
       "<table border=\"1\" class=\"dataframe\">\n",
       "  <thead>\n",
       "    <tr style=\"text-align: right;\">\n",
       "      <th></th>\n",
       "      <th>no_of_projects</th>\n",
       "      <th>left_company</th>\n",
       "      <th>salary</th>\n",
       "    </tr>\n",
       "    <tr>\n",
       "      <th>dept_name</th>\n",
       "      <th></th>\n",
       "      <th></th>\n",
       "      <th></th>\n",
       "    </tr>\n",
       "  </thead>\n",
       "  <tbody>\n",
       "    <tr>\n",
       "      <th>Customer Service</th>\n",
       "      <td>7.00</td>\n",
       "      <td>0.00</td>\n",
       "      <td>43461.5</td>\n",
       "    </tr>\n",
       "    <tr>\n",
       "      <th>Finance</th>\n",
       "      <td>3.00</td>\n",
       "      <td>0.50</td>\n",
       "      <td>56048.0</td>\n",
       "    </tr>\n",
       "    <tr>\n",
       "      <th>Human Resources</th>\n",
       "      <td>8.50</td>\n",
       "      <td>0.00</td>\n",
       "      <td>44145.5</td>\n",
       "    </tr>\n",
       "    <tr>\n",
       "      <th>Marketing</th>\n",
       "      <td>3.00</td>\n",
       "      <td>0.00</td>\n",
       "      <td>70553.5</td>\n",
       "    </tr>\n",
       "    <tr>\n",
       "      <th>Production</th>\n",
       "      <td>3.50</td>\n",
       "      <td>0.00</td>\n",
       "      <td>43114.5</td>\n",
       "    </tr>\n",
       "    <tr>\n",
       "      <th>Quality Management</th>\n",
       "      <td>4.75</td>\n",
       "      <td>0.25</td>\n",
       "      <td>49259.5</td>\n",
       "    </tr>\n",
       "    <tr>\n",
       "      <th>Research</th>\n",
       "      <td>3.00</td>\n",
       "      <td>0.00</td>\n",
       "      <td>60261.5</td>\n",
       "    </tr>\n",
       "    <tr>\n",
       "      <th>Sales</th>\n",
       "      <td>2.50</td>\n",
       "      <td>0.00</td>\n",
       "      <td>71380.0</td>\n",
       "    </tr>\n",
       "    <tr>\n",
       "      <th>development</th>\n",
       "      <td>6.50</td>\n",
       "      <td>0.00</td>\n",
       "      <td>44313.0</td>\n",
       "    </tr>\n",
       "  </tbody>\n",
       "</table>\n",
       "</div>"
      ],
      "text/plain": [
       "                    no_of_projects  left_company   salary\n",
       "dept_name                                                \n",
       "Customer Service              7.00          0.00  43461.5\n",
       "Finance                       3.00          0.50  56048.0\n",
       "Human Resources               8.50          0.00  44145.5\n",
       "Marketing                     3.00          0.00  70553.5\n",
       "Production                    3.50          0.00  43114.5\n",
       "Quality Management            4.75          0.25  49259.5\n",
       "Research                      3.00          0.00  60261.5\n",
       "Sales                         2.50          0.00  71380.0\n",
       "development                   6.50          0.00  44313.0"
      ]
     },
     "execution_count": 35,
     "metadata": {},
     "output_type": "execute_result"
    }
   ],
   "source": [
    "var8.groupby('dept_name').mean()"
   ]
  },
  {
   "cell_type": "code",
   "execution_count": 46,
   "metadata": {},
   "outputs": [
    {
     "data": {
      "text/html": [
       "<div>\n",
       "<style scoped>\n",
       "    .dataframe tbody tr th:only-of-type {\n",
       "        vertical-align: middle;\n",
       "    }\n",
       "\n",
       "    .dataframe tbody tr th {\n",
       "        vertical-align: top;\n",
       "    }\n",
       "\n",
       "    .dataframe thead th {\n",
       "        text-align: right;\n",
       "    }\n",
       "</style>\n",
       "<table border=\"1\" class=\"dataframe\">\n",
       "  <thead>\n",
       "    <tr style=\"text-align: right;\">\n",
       "      <th></th>\n",
       "      <th>no_of_projects</th>\n",
       "      <th>left_company</th>\n",
       "    </tr>\n",
       "    <tr>\n",
       "      <th>salary</th>\n",
       "      <th></th>\n",
       "      <th></th>\n",
       "    </tr>\n",
       "  </thead>\n",
       "  <tbody>\n",
       "    <tr>\n",
       "      <th>40000.0</th>\n",
       "      <td>5.489176</td>\n",
       "      <td>0.101494</td>\n",
       "    </tr>\n",
       "    <tr>\n",
       "      <th>40001.0</th>\n",
       "      <td>3.200000</td>\n",
       "      <td>0.200000</td>\n",
       "    </tr>\n",
       "    <tr>\n",
       "      <th>40002.0</th>\n",
       "      <td>4.600000</td>\n",
       "      <td>0.200000</td>\n",
       "    </tr>\n",
       "    <tr>\n",
       "      <th>40003.0</th>\n",
       "      <td>4.555556</td>\n",
       "      <td>0.000000</td>\n",
       "    </tr>\n",
       "    <tr>\n",
       "      <th>40004.0</th>\n",
       "      <td>4.777778</td>\n",
       "      <td>0.000000</td>\n",
       "    </tr>\n",
       "    <tr>\n",
       "      <th>...</th>\n",
       "      <td>...</td>\n",
       "      <td>...</td>\n",
       "    </tr>\n",
       "    <tr>\n",
       "      <th>125469.0</th>\n",
       "      <td>2.000000</td>\n",
       "      <td>0.000000</td>\n",
       "    </tr>\n",
       "    <tr>\n",
       "      <th>126703.0</th>\n",
       "      <td>1.000000</td>\n",
       "      <td>0.000000</td>\n",
       "    </tr>\n",
       "    <tr>\n",
       "      <th>127041.0</th>\n",
       "      <td>4.000000</td>\n",
       "      <td>0.000000</td>\n",
       "    </tr>\n",
       "    <tr>\n",
       "      <th>127238.0</th>\n",
       "      <td>9.000000</td>\n",
       "      <td>0.000000</td>\n",
       "    </tr>\n",
       "    <tr>\n",
       "      <th>129492.0</th>\n",
       "      <td>7.000000</td>\n",
       "      <td>0.000000</td>\n",
       "    </tr>\n",
       "  </tbody>\n",
       "</table>\n",
       "<p>50355 rows × 2 columns</p>\n",
       "</div>"
      ],
      "text/plain": [
       "          no_of_projects  left_company\n",
       "salary                                \n",
       "40000.0         5.489176      0.101494\n",
       "40001.0         3.200000      0.200000\n",
       "40002.0         4.600000      0.200000\n",
       "40003.0         4.555556      0.000000\n",
       "40004.0         4.777778      0.000000\n",
       "...                  ...           ...\n",
       "125469.0        2.000000      0.000000\n",
       "126703.0        1.000000      0.000000\n",
       "127041.0        4.000000      0.000000\n",
       "127238.0        9.000000      0.000000\n",
       "129492.0        7.000000      0.000000\n",
       "\n",
       "[50355 rows x 2 columns]"
      ]
     },
     "execution_count": 46,
     "metadata": {},
     "output_type": "execute_result"
    }
   ],
   "source": [
    "var8.groupby('salary').mean()"
   ]
  },
  {
   "cell_type": "code",
   "execution_count": 47,
   "metadata": {},
   "outputs": [
    {
     "data": {
      "text/html": [
       "<div>\n",
       "<style scoped>\n",
       "    .dataframe tbody tr th:only-of-type {\n",
       "        vertical-align: middle;\n",
       "    }\n",
       "\n",
       "    .dataframe tbody tr th {\n",
       "        vertical-align: top;\n",
       "    }\n",
       "\n",
       "    .dataframe thead th {\n",
       "        text-align: right;\n",
       "    }\n",
       "</style>\n",
       "<table border=\"1\" class=\"dataframe\">\n",
       "  <thead>\n",
       "    <tr style=\"text-align: right;\">\n",
       "      <th></th>\n",
       "      <th>no_of_projects</th>\n",
       "      <th>left_company</th>\n",
       "      <th>salary</th>\n",
       "    </tr>\n",
       "    <tr>\n",
       "      <th>sex</th>\n",
       "      <th></th>\n",
       "      <th></th>\n",
       "      <th></th>\n",
       "    </tr>\n",
       "  </thead>\n",
       "  <tbody>\n",
       "    <tr>\n",
       "      <th></th>\n",
       "      <td>0.000000</td>\n",
       "      <td>0.000000</td>\n",
       "      <td>NaN</td>\n",
       "    </tr>\n",
       "    <tr>\n",
       "      <th>F</th>\n",
       "      <td>5.499571</td>\n",
       "      <td>0.099183</td>\n",
       "      <td>52953.836428</td>\n",
       "    </tr>\n",
       "    <tr>\n",
       "      <th>M</th>\n",
       "      <td>5.508332</td>\n",
       "      <td>0.099793</td>\n",
       "      <td>52982.002945</td>\n",
       "    </tr>\n",
       "  </tbody>\n",
       "</table>\n",
       "</div>"
      ],
      "text/plain": [
       "     no_of_projects  left_company        salary\n",
       "sex                                            \n",
       "           0.000000      0.000000           NaN\n",
       "F          5.499571      0.099183  52953.836428\n",
       "M          5.508332      0.099793  52982.002945"
      ]
     },
     "execution_count": 47,
     "metadata": {},
     "output_type": "execute_result"
    }
   ],
   "source": [
    "var8.groupby('sex').mean()"
   ]
  },
  {
   "cell_type": "code",
   "execution_count": 48,
   "metadata": {},
   "outputs": [
    {
     "data": {
      "text/plain": [
       "<matplotlib.axes._subplots.AxesSubplot at 0x7f9f4f8bd690>"
      ]
     },
     "execution_count": 48,
     "metadata": {},
     "output_type": "execute_result"
    },
    {
     "data": {
      "image/png": "[encoded data removed]",
      "text/plain": [
       "<Figure size 432x288 with 1 Axes>"
      ]
     },
     "metadata": {
      "needs_background": "light"
     },
     "output_type": "display_data"
    }
   ],
   "source": [
    "\n",
    "\n",
    "#Bar chart for department employee work for and the frequency of turnover\n",
    "pd.crosstab(var8.dept_name,var8.left_company).plot(kind='bar')\n",
    "#plt.title('Department')\n",
    "#plt.xlabel('Department')\n",
    "#plt.ylabel('Frequency of Turnover')\n",
    "#plt.savefig('department_bar_chart')"
   ]
  },
  {
   "cell_type": "code",
   "execution_count": 63,
   "metadata": {},
   "outputs": [
    {
     "data": {
      "text/plain": [
       "<matplotlib.axes._subplots.AxesSubplot at 0x7f9f4d4a5610>"
      ]
     },
     "execution_count": 63,
     "metadata": {},
     "output_type": "execute_result"
    },
    {
     "data": {
      "image/png": "[encoded data removed]",
      "text/plain": [
       "<Figure size 432x288 with 1 Axes>"
      ]
     },
     "metadata": {
      "needs_background": "light"
     },
     "output_type": "display_data"
    }
   ],
   "source": [
    "pd.crosstab(var8.title,var8.left_company).plot(kind='bar')"
   ]
  },
  {
   "cell_type": "markdown",
   "metadata": {},
   "source": [
    "### Employee who left the company depends on the department they work for. Thus, department can be a good predictor of the outcome variable."
   ]
  },
  {
   "cell_type": "code",
   "execution_count": 49,
   "metadata": {},
   "outputs": [
    {
     "data": {
      "image/png": "[encoded data removed]",
      "text/plain": [
       "<Figure size 1440x1080 with 4 Axes>"
      ]
     },
     "metadata": {
      "needs_background": "light"
     },
     "output_type": "display_data"
    }
   ],
   "source": [
    "#Histogram of numeric variables\n",
    "num_bins = 10\n",
    "\n",
    "var8.hist(bins=num_bins, figsize=(20,15))\n",
    "plt.savefig(\"var8_histogram_plots\")\n",
    "plt.show()"
   ]
  },
  {
   "cell_type": "code",
   "execution_count": null,
   "metadata": {},
   "outputs": [],
   "source": [
    "cat_vars2=['sex','last_performance_rating','title','dept_name',]\n",
    "for var in cat_vars2:\n",
    "    cat_list2='var'+'_'+var\n",
    "    cat_list2 = pd.get_dummies(var8[var], prefix=var)\n",
    "    var9=var8.join(cat_list2)\n",
    "    var8=var9\n",
    "    "
   ]
  },
  {
   "cell_type": "code",
   "execution_count": 67,
   "metadata": {},
   "outputs": [
    {
     "data": {
      "text/plain": [
       "array(['no_of_projects', 'left_company', 'salary', 'title', 'sex_',\n",
       "       'sex_F', 'sex_M', 'last_performance_rating_',\n",
       "       'last_performance_rating_A', 'last_performance_rating_B',\n",
       "       'last_performance_rating_C', 'last_performance_rating_PIP',\n",
       "       'last_performance_rating_S', 'dept_name_Customer Service',\n",
       "       'dept_name_Finance', 'dept_name_Human Resources',\n",
       "       'dept_name_Marketing', 'dept_name_Production',\n",
       "       'dept_name_Quality Management', 'dept_name_Research',\n",
       "       'dept_name_Sales', 'dept_name_development'], dtype=object)"
      ]
     },
     "execution_count": 67,
     "metadata": {},
     "output_type": "execute_result"
    }
   ],
   "source": [
    "var8.columns.values"
   ]
  },
  {
   "cell_type": "code",
   "execution_count": 68,
   "metadata": {},
   "outputs": [],
   "source": [
    "var10=var8.drop(['sex_'],axis='columns')"
   ]
  },
  {
   "cell_type": "code",
   "execution_count": 69,
   "metadata": {},
   "outputs": [
    {
     "data": {
      "text/plain": [
       "array(['no_of_projects', 'left_company', 'salary', 'title', 'sex_F',\n",
       "       'sex_M', 'last_performance_rating_', 'last_performance_rating_A',\n",
       "       'last_performance_rating_B', 'last_performance_rating_C',\n",
       "       'last_performance_rating_PIP', 'last_performance_rating_S',\n",
       "       'dept_name_Customer Service', 'dept_name_Finance',\n",
       "       'dept_name_Human Resources', 'dept_name_Marketing',\n",
       "       'dept_name_Production', 'dept_name_Quality Management',\n",
       "       'dept_name_Research', 'dept_name_Sales', 'dept_name_development'],\n",
       "      dtype=object)"
      ]
     },
     "execution_count": 69,
     "metadata": {},
     "output_type": "execute_result"
    }
   ],
   "source": [
    "var10.columns.values"
   ]
  },
  {
   "cell_type": "code",
   "execution_count": 93,
   "metadata": {},
   "outputs": [],
   "source": [
    "var11=var10.drop(['last_performance_rating_','title'],axis='columns')"
   ]
  },
  {
   "cell_type": "code",
   "execution_count": 94,
   "metadata": {},
   "outputs": [
    {
     "data": {
      "text/plain": [
       "array(['no_of_projects', 'left_company', 'salary', 'sex_F', 'sex_M',\n",
       "       'last_performance_rating_A', 'last_performance_rating_B',\n",
       "       'last_performance_rating_C', 'last_performance_rating_PIP',\n",
       "       'last_performance_rating_S', 'dept_name_Customer Service',\n",
       "       'dept_name_Finance', 'dept_name_Human Resources',\n",
       "       'dept_name_Marketing', 'dept_name_Production',\n",
       "       'dept_name_Quality Management', 'dept_name_Research',\n",
       "       'dept_name_Sales', 'dept_name_development'], dtype=object)"
      ]
     },
     "execution_count": 94,
     "metadata": {},
     "output_type": "execute_result"
    }
   ],
   "source": [
    "var11.columns.values"
   ]
  },
  {
   "cell_type": "code",
   "execution_count": 96,
   "metadata": {},
   "outputs": [],
   "source": [
    "var12=var11.columns.values.tolist()\n",
    "y=['left_company']\n",
    "X=[i for i in var12 if i not in y]"
   ]
  },
  {
   "cell_type": "code",
   "execution_count": 106,
   "metadata": {},
   "outputs": [
    {
     "data": {
      "text/plain": [
       "pandas.core.frame.DataFrame"
      ]
     },
     "execution_count": 106,
     "metadata": {},
     "output_type": "execute_result"
    }
   ],
   "source": [
    "type(var11)"
   ]
  },
  {
   "cell_type": "code",
   "execution_count": 98,
   "metadata": {},
   "outputs": [
    {
     "data": {
      "text/plain": [
       "['no_of_projects',\n",
       " 'salary',\n",
       " 'sex_F',\n",
       " 'sex_M',\n",
       " 'last_performance_rating_A',\n",
       " 'last_performance_rating_B',\n",
       " 'last_performance_rating_C',\n",
       " 'last_performance_rating_PIP',\n",
       " 'last_performance_rating_S',\n",
       " 'dept_name_Customer Service',\n",
       " 'dept_name_Finance',\n",
       " 'dept_name_Human Resources',\n",
       " 'dept_name_Marketing',\n",
       " 'dept_name_Production',\n",
       " 'dept_name_Quality Management',\n",
       " 'dept_name_Research',\n",
       " 'dept_name_Sales',\n",
       " 'dept_name_development']"
      ]
     },
     "execution_count": 98,
     "metadata": {},
     "output_type": "execute_result"
    }
   ],
   "source": [
    "X"
   ]
  },
  {
   "cell_type": "code",
   "execution_count": 104,
   "metadata": {},
   "outputs": [],
   "source": [
    "var11=var11.fillna(0)"
   ]
  },
  {
   "cell_type": "code",
   "execution_count": 105,
   "metadata": {},
   "outputs": [
    {
     "data": {
      "text/plain": [
       "no_of_projects                  False\n",
       "left_company                    False\n",
       "salary                          False\n",
       "sex_F                           False\n",
       "sex_M                           False\n",
       "last_performance_rating_A       False\n",
       "last_performance_rating_B       False\n",
       "last_performance_rating_C       False\n",
       "last_performance_rating_PIP     False\n",
       "last_performance_rating_S       False\n",
       "dept_name_Customer Service      False\n",
       "dept_name_Finance               False\n",
       "dept_name_Human Resources       False\n",
       "dept_name_Marketing             False\n",
       "dept_name_Production            False\n",
       "dept_name_Quality Management    False\n",
       "dept_name_Research              False\n",
       "dept_name_Sales                 False\n",
       "dept_name_development           False\n",
       "dtype: bool"
      ]
     },
     "execution_count": 105,
     "metadata": {},
     "output_type": "execute_result"
    }
   ],
   "source": [
    "var11.isnull().any()"
   ]
  },
  {
   "cell_type": "code",
   "execution_count": 108,
   "metadata": {},
   "outputs": [
    {
     "name": "stderr",
     "output_type": "stream",
     "text": [
      "/opt/anaconda3/lib/python3.7/site-packages/sklearn/utils/validation.py:760: DataConversionWarning: A column-vector y was passed when a 1d array was expected. Please change the shape of y to (n_samples, ), for example using ravel().\n",
      "  y = column_or_1d(y, warn=True)\n"
     ]
    },
    {
     "name": "stdout",
     "output_type": "stream",
     "text": [
      "[ True  True  True  True  True  True  True  True  True False  True False\n",
      " False False False False False False]\n",
      "[1 1 1 1 1 1 1 1 1 3 1 5 8 2 4 7 9 6]\n"
     ]
    }
   ],
   "source": [
    "from sklearn.feature_selection import RFE\n",
    "from sklearn.linear_model import LogisticRegression\n",
    "\n",
    "#Recursive Feature Elimination (RFE)\n",
    "model = LogisticRegression()\n",
    "\n",
    "rfe = RFE(model, 10)\n",
    "rfe = rfe.fit(var11[X],var11[y])\n",
    "print(rfe.support_)\n",
    "print(rfe.ranking_) "
   ]
  },
  {
   "cell_type": "code",
   "execution_count": 110,
   "metadata": {},
   "outputs": [
    {
     "data": {
      "text/plain": [
       "['no_of_projects',\n",
       " 'salary',\n",
       " 'sex_F',\n",
       " 'sex_M',\n",
       " 'last_performance_rating_A',\n",
       " 'last_performance_rating_B',\n",
       " 'last_performance_rating_C',\n",
       " 'last_performance_rating_PIP',\n",
       " 'last_performance_rating_S',\n",
       " 'dept_name_Customer Service',\n",
       " 'dept_name_Finance',\n",
       " 'dept_name_Human Resources',\n",
       " 'dept_name_Marketing',\n",
       " 'dept_name_Production',\n",
       " 'dept_name_Quality Management',\n",
       " 'dept_name_Research',\n",
       " 'dept_name_Sales',\n",
       " 'dept_name_development']"
      ]
     },
     "execution_count": 110,
     "metadata": {},
     "output_type": "execute_result"
    }
   ],
   "source": [
    "X"
   ]
  },
  {
   "cell_type": "code",
   "execution_count": 111,
   "metadata": {},
   "outputs": [],
   "source": [
    "\n",
    "cols=['no_of_projects', 'salary', 'sex_F', 'sex_M', 'last_performance_rating_A','last_performance_rating_B',\n",
    "      'last_performance_rating_C','last_performance_rating_PIP','last_performance_rating_S','dept_name_Finance' ] \n",
    "X=var11[cols]\n",
    "y=var11['left_company']"
   ]
  },
  {
   "cell_type": "code",
   "execution_count": 113,
   "metadata": {},
   "outputs": [],
   "source": [
    "#Split data into training and test samples\n",
    "from sklearn.model_selection import train_test_split\n",
    "X_train, X_test, y_train, y_test = train_test_split(X, y, test_size=0.3, random_state=0)"
   ]
  },
  {
   "cell_type": "code",
   "execution_count": 114,
   "metadata": {},
   "outputs": [
    {
     "data": {
      "text/plain": [
       "LogisticRegression(C=1.0, class_weight=None, dual=False, fit_intercept=True,\n",
       "                   intercept_scaling=1, l1_ratio=None, max_iter=100,\n",
       "                   multi_class='auto', n_jobs=None, penalty='l2',\n",
       "                   random_state=None, solver='lbfgs', tol=0.0001, verbose=0,\n",
       "                   warm_start=False)"
      ]
     },
     "execution_count": 114,
     "metadata": {},
     "output_type": "execute_result"
    }
   ],
   "source": [
    "#Logistic Regression Classifier\n",
    "from sklearn.linear_model import LogisticRegression\n",
    "from sklearn import metrics\n",
    "logreg = LogisticRegression()\n",
    "logreg.fit(X_train, y_train)"
   ]
  },
  {
   "cell_type": "code",
   "execution_count": 115,
   "metadata": {},
   "outputs": [
    {
     "name": "stdout",
     "output_type": "stream",
     "text": [
      "Logistic regression accuracy: 0.901\n"
     ]
    }
   ],
   "source": [
    "from sklearn.metrics import accuracy_score\n",
    "print('Logistic regression accuracy: {:.3f}'.format(accuracy_score(y_test, logreg.predict(X_test))))"
   ]
  },
  {
   "cell_type": "code",
   "execution_count": 122,
   "metadata": {},
   "outputs": [
    {
     "data": {
      "text/plain": [
       "RandomForestClassifier(bootstrap=True, ccp_alpha=0.0, class_weight=None,\n",
       "                       criterion='gini', max_depth=None, max_features='auto',\n",
       "                       max_leaf_nodes=None, max_samples=None,\n",
       "                       min_impurity_decrease=0.0, min_impurity_split=None,\n",
       "                       min_samples_leaf=1, min_samples_split=2,\n",
       "                       min_weight_fraction_leaf=0.0, n_estimators=100,\n",
       "                       n_jobs=None, oob_score=False, random_state=None,\n",
       "                       verbose=0, warm_start=False)"
      ]
     },
     "execution_count": 122,
     "metadata": {},
     "output_type": "execute_result"
    }
   ],
   "source": [
    "#Random Forest Classifier\n",
    "from sklearn.ensemble import RandomForestClassifier\n",
    "rf = RandomForestClassifier()\n",
    "rf.fit(X_train, y_train)"
   ]
  },
  {
   "cell_type": "code",
   "execution_count": 119,
   "metadata": {},
   "outputs": [
    {
     "name": "stdout",
     "output_type": "stream",
     "text": [
      "Random Forest Accuracy: 0.849\n"
     ]
    }
   ],
   "source": [
    "print('Random Forest Accuracy: {:.3f}'.format(accuracy_score(y_test, rf.predict(X_test))))"
   ]
  },
  {
   "cell_type": "code",
   "execution_count": 120,
   "metadata": {},
   "outputs": [
    {
     "data": {
      "text/plain": [
       "SVC(C=1.0, break_ties=False, cache_size=200, class_weight=None, coef0=0.0,\n",
       "    decision_function_shape='ovr', degree=3, gamma='scale', kernel='rbf',\n",
       "    max_iter=-1, probability=False, random_state=None, shrinking=True,\n",
       "    tol=0.001, verbose=False)"
      ]
     },
     "execution_count": 120,
     "metadata": {},
     "output_type": "execute_result"
    }
   ],
   "source": [
    "#SVM Classifier\n",
    "from sklearn.svm import SVC\n",
    "svc = SVC()\n",
    "svc.fit(X_train, y_train)"
   ]
  },
  {
   "cell_type": "code",
   "execution_count": 121,
   "metadata": {},
   "outputs": [
    {
     "name": "stdout",
     "output_type": "stream",
     "text": [
      "Support vector machine accuracy: 0.901\n"
     ]
    }
   ],
   "source": [
    "print('Support vector machine accuracy: {:.3f}'.format(accuracy_score(y_test, svc.predict(X_test))))"
   ]
  },
  {
   "cell_type": "markdown",
   "metadata": {},
   "source": [
    "### Using logistic regression and svm classifier accuracy is 0.90 while using random forest it is coming out 0.84\n",
    "### logistic and svm are better in this case than random forest"
   ]
  }
 ],
 "metadata": {
  "kernelspec": {
   "display_name": "Python 3",
   "language": "python",
   "name": "python3"
  },
  "language_info": {
   "codemirror_mode": {
    "name": "ipython",
    "version": 3
   },
   "file_extension": ".py",
   "mimetype": "text/x-python",
   "name": "python",
   "nbconvert_exporter": "python",
   "pygments_lexer": "ipython3",
   "version": "3.7.6"
  }
 },
 "nbformat": 4,
 "nbformat_minor": 4
}
