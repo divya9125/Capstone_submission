{
 "cells": [
  {
   "cell_type": "code",
   "execution_count": 12,
   "metadata": {},
   "outputs": [],
   "source": [
    "from pyspark.sql import SparkSession\n",
    "spark=(SparkSession.builder.appName(\"Capstone\").config(\"hive.metastore.uris\",\"thrift://ip-10-1-2-24.ap-south-1.compute.internal:9083\").enableHiveSupport().getOrCreate())"
   ]
  },
  {
   "cell_type": "code",
   "execution_count": 13,
   "metadata": {},
   "outputs": [
    {
     "data": {
      "text/html": [
       "\n",
       "            <div>\n",
       "                <p><b>SparkSession - hive</b></p>\n",
       "                \n",
       "        <div>\n",
       "            <p><b>SparkContext</b></p>\n",
       "\n",
       "            <p><a href=\"http://ip-10-1-1-204.ap-south-1.compute.internal:43009\">Spark UI</a></p>\n",
       "\n",
       "            <dl>\n",
       "              <dt>Version</dt>\n",
       "                <dd><code>v2.4.0</code></dd>\n",
       "              <dt>Master</dt>\n",
       "                <dd><code>local[*]</code></dd>\n",
       "              <dt>AppName</dt>\n",
       "                <dd><code>Capstone</code></dd>\n",
       "            </dl>\n",
       "        </div>\n",
       "        \n",
       "            </div>\n",
       "        "
      ],
      "text/plain": [
       "<pyspark.sql.session.SparkSession at 0x7f2124042ed0>"
      ]
     },
     "execution_count": 13,
     "metadata": {},
     "output_type": "execute_result"
    }
   ],
   "source": [
    "spark"
   ]
  },
  {
   "cell_type": "markdown",
   "metadata": {},
   "source": [
    "### Q1 A list showing employee number, last name, first name, sex, and salary for each employee"
   ]
  },
  {
   "cell_type": "code",
   "execution_count": 17,
   "metadata": {},
   "outputs": [
    {
     "name": "stdout",
     "output_type": "stream",
     "text": [
      "+------+-----------+----------+---+------+\n",
      "|emp_no|  last_name|first_name|sex|salary|\n",
      "+------+-----------+----------+---+------+\n",
      "| 10001|    Facello|    Georgi|  M| 60117|\n",
      "| 10002|     Simmel|   Bezalel|  F| 65828|\n",
      "| 10003|    Bamford|     Parto|  M| 40006|\n",
      "| 10004|    Koblick| Chirstian|  M| 40054|\n",
      "| 10005|   Maliniak|   Kyoichi|  M| 78228|\n",
      "| 10006|    Preusig|    Anneke|  F| 40000|\n",
      "| 10007|  Zielinski|   Tzvetan|  F| 56724|\n",
      "| 10008|   Kalloufi|    Saniya|  M| 46671|\n",
      "| 10009|       Peac|    Sumant|  F| 60929|\n",
      "| 10010|   Piveteau| Duangkaew|  F| 72488|\n",
      "| 10011|      Sluis|      Mary|  F| 42365|\n",
      "| 10012|  Bridgland|  Patricio|  M| 40000|\n",
      "| 10013|     Terkki| Eberhardt|  M| 40000|\n",
      "| 10014|      Genin|     Berni|  M| 46168|\n",
      "| 10015|  Nooteboom|  Guoxiang|  M| 40000|\n",
      "| 10016|Cappelletti|  Kazuhito|  M| 70889|\n",
      "| 10017|  Bouloucos| Cristinel|  F| 71380|\n",
      "| 10018|       Peha|  Kazuhide|  F| 55881|\n",
      "| 10019|    Haddadi|   Lillian|  M| 44276|\n",
      "| 10020|    Warwick|    Mayuko|  M| 40000|\n",
      "+------+-----------+----------+---+------+\n",
      "only showing top 20 rows\n",
      "\n"
     ]
    }
   ],
   "source": [
    "spark.sql(\"select e.emp_no,e.last_name,e.first_name,e.sex,s.salary from anabig114243.employees e join anabig114243.salaries s on e.emp_no=s.emp_no \").show()"
   ]
  },
  {
   "cell_type": "markdown",
   "metadata": {},
   "source": [
    "### Q2 A list showing first name, last name, and hire date for employees who were hired in 1986."
   ]
  },
  {
   "cell_type": "code",
   "execution_count": 18,
   "metadata": {},
   "outputs": [
    {
     "name": "stdout",
     "output_type": "stream",
     "text": [
      "+----------+------------+---------+\n",
      "|first_name|   last_name|hire_date|\n",
      "+----------+------------+---------+\n",
      "|    Georgi|     Facello|     1986|\n",
      "|     Parto|     Bamford|     1986|\n",
      "| Chirstian|     Koblick|     1986|\n",
      "|    Sanjiv|    Zschoche|     1986|\n",
      "|      Kwee|    Schusler|     1986|\n",
      "|   Kshitij|        Gils|     1986|\n",
      "|  Zhongwei|       Rosen|     1986|\n",
      "|   Xinglin|     Eugenio|     1986|\n",
      "| Sudharsan|Flasterstein|     1986|\n",
      "|    Kendra|     Hofting|     1986|\n",
      "|    Hilari|      Morton|     1986|\n",
      "|     Akemi|       Birch|     1986|\n",
      "|    Lunjin|      Giveon|     1986|\n",
      "|    Xuejia|      Ullian|     1986|\n",
      "|   Chikara|    Rissland|     1986|\n",
      "|  Domenick|    Peltason|     1986|\n",
      "|    Zissis|    Pintelas|     1986|\n",
      "|     Perry|   Shimshoni|     1986|\n",
      "|  Kazuhito| Encarnacion|     1986|\n",
      "|   Xiadong|       Perry|     1986|\n",
      "+----------+------------+---------+\n",
      "only showing top 20 rows\n",
      "\n"
     ]
    }
   ],
   "source": [
    "\n",
    "spark.sql(\"select first_name,last_name,substr(hire_date,7,10)as hire_date from anabig114243.employees where substr(hire_date,7,10)='1986'\").show() \n"
   ]
  },
  {
   "cell_type": "markdown",
   "metadata": {},
   "source": [
    "### Q3 A list showing the manager of each department with the following information: department number, department name,the manager's employee number, last name, first name."
   ]
  },
  {
   "cell_type": "code",
   "execution_count": 21,
   "metadata": {},
   "outputs": [
    {
     "name": "stdout",
     "output_type": "stream",
     "text": [
      "+------------------+-------+------+------------+-----------+-------+\n",
      "|         dept_name|dept_no|emp_no|   last_name| first_name|  title|\n",
      "+------------------+-------+------+------------+-----------+-------+\n",
      "|Quality Management|   d006|110854|       Pesch|       Dung|Manager|\n",
      "|          Research|   d008|111534|      Kambil|     Hilary|Manager|\n",
      "|Quality Management|   d006|110800|     Quadeer|     Sanjoy|Manager|\n",
      "|        Production|   d004|110344|       Cools|     Rosine|Manager|\n",
      "|         Marketing|   d001|110039|    Minakawa|   Vishwani|Manager|\n",
      "|  Customer Service|   d009|111939|     Weedman|    Yuchang|Manager|\n",
      "|         Marketing|   d001|110022|  Markovitch|  Margareta|Manager|\n",
      "|        Production|   d004|110303|     Wegerle|  Krassimir|Manager|\n",
      "|        Production|   d004|110386|      Kieras|       Shem|Manager|\n",
      "|Quality Management|   d006|110765|     Hofmeyr|     Rutger|Manager|\n",
      "|           Finance|   d002|110085|       Alpin|       Ebru|Manager|\n",
      "|   Human Resources|   d003|110228|     Sigstam|    Karsten|Manager|\n",
      "|  Customer Service|   d009|111877|    Spinelli|    Xiaobin|Manager|\n",
      "|   Human Resources|   d003|110183|Ossenbruggen|    Shirish|Manager|\n",
      "|       development|   d005|110567|    DasSarma|       Leon|Manager|\n",
      "|             Sales|   d007|111133|       Zhang|      Hauke|Manager|\n",
      "|        Production|   d004|110420|    Ghazalie|      Oscar|Manager|\n",
      "|             Sales|   d007|111035|   Kaelbling|Przemyslawa|Manager|\n",
      "|       development|   d005|110511|    Hagimont|   DeForest|Manager|\n",
      "|           Finance|   d002|110114|  Legleitner|      Isamu|Manager|\n",
      "+------------------+-------+------+------------+-----------+-------+\n",
      "only showing top 20 rows\n",
      "\n"
     ]
    }
   ],
   "source": [
    "spark.sql(\"select d.dept_name,d.dept_no,dm.emp_no,ee.last_name,ee.first_name,tt.title from anabig114243.departments d join anabig114243.dept_managers dm on d.dept_no=dm.dept_no join anabig114243.employees ee on dm.emp_no=ee.emp_no join anabig114243.titles tt on ee.emp_titles_id=tt.title_id group by d.dept_name,d.dept_no,dm.emp_no,ee.last_name,ee.first_name,tt.title \").show()"
   ]
  },
  {
   "attachments": {},
   "cell_type": "markdown",
   "metadata": {},
   "source": [
    "### Q4 select d.dept_name,ee.emp_no,ee.last_name,ee.first_name from employees ee join dept_managers dm on ee.emp_no=dm.emp_no join departments d on d.dept_no=dm.dept_no"
   ]
  },
  {
   "cell_type": "code",
   "execution_count": 22,
   "metadata": {},
   "outputs": [
    {
     "name": "stdout",
     "output_type": "stream",
     "text": [
      "+------------------+------+------------+-----------+\n",
      "|         dept_name|emp_no|   last_name| first_name|\n",
      "+------------------+------+------------+-----------+\n",
      "|         Marketing|110022|  Markovitch|  Margareta|\n",
      "|         Marketing|110039|    Minakawa|   Vishwani|\n",
      "|           Finance|110085|       Alpin|       Ebru|\n",
      "|           Finance|110114|  Legleitner|      Isamu|\n",
      "|   Human Resources|110183|Ossenbruggen|    Shirish|\n",
      "|   Human Resources|110228|     Sigstam|    Karsten|\n",
      "|        Production|110303|     Wegerle|  Krassimir|\n",
      "|        Production|110344|       Cools|     Rosine|\n",
      "|        Production|110386|      Kieras|       Shem|\n",
      "|        Production|110420|    Ghazalie|      Oscar|\n",
      "|       development|110511|    Hagimont|   DeForest|\n",
      "|       development|110567|    DasSarma|       Leon|\n",
      "|Quality Management|110725|     Onuegbe|  Peternela|\n",
      "|Quality Management|110765|     Hofmeyr|     Rutger|\n",
      "|Quality Management|110800|     Quadeer|     Sanjoy|\n",
      "|Quality Management|110854|       Pesch|       Dung|\n",
      "|             Sales|111035|   Kaelbling|Przemyslawa|\n",
      "|             Sales|111133|       Zhang|      Hauke|\n",
      "|          Research|111400|     Staelin|       Arie|\n",
      "|          Research|111534|      Kambil|     Hilary|\n",
      "+------------------+------+------------+-----------+\n",
      "only showing top 20 rows\n",
      "\n"
     ]
    }
   ],
   "source": [
    "spark.sql(\"select d.dept_name,ee.emp_no,ee.last_name,ee.first_name from anabig114243.employees ee join anabig114243.dept_managers dm on ee.emp_no=dm.emp_no join anabig114243.departments d on d.dept_no=dm.dept_no\").show()"
   ]
  },
  {
   "cell_type": "markdown",
   "metadata": {},
   "source": [
    "### Q5 A list showing first name, last name, and sex for employees whose first name is \"Hercules\" and last names begin with \"B.“"
   ]
  },
  {
   "cell_type": "code",
   "execution_count": 24,
   "metadata": {},
   "outputs": [
    {
     "name": "stdout",
     "output_type": "stream",
     "text": [
      "+----------+-------------+---+\n",
      "|first_name|    last_name|sex|\n",
      "+----------+-------------+---+\n",
      "|  Hercules|   Benzmuller|  M|\n",
      "|  Hercules|      Brendel|  F|\n",
      "|  Hercules|   Baranowski|  M|\n",
      "|  Hercules|     Barreiro|  M|\n",
      "|  Hercules|         Baer|  M|\n",
      "|  Hercules|Bernardinello|  F|\n",
      "|  Hercules|      Basagni|  M|\n",
      "|  Hercules|        Biran|  F|\n",
      "|  Hercules|    Bernatsky|  M|\n",
      "|  Hercules|         Bail|  F|\n",
      "|  Hercules|        Birge|  F|\n",
      "|  Hercules|      Bisiani|  F|\n",
      "|  Hercules|       Bodoff|  M|\n",
      "|  Hercules|        Biron|  F|\n",
      "|  Hercules|      Buchter|  M|\n",
      "|  Hercules|         Bain|  F|\n",
      "|  Hercules|         Bahr|  M|\n",
      "|  Hercules|         Baak|  M|\n",
      "|  Hercules|     Benantar|  F|\n",
      "|  Hercules|      Berstel|  F|\n",
      "+----------+-------------+---+\n",
      "\n"
     ]
    }
   ],
   "source": [
    "spark.sql(\"select first_name,last_name, sex from anabig114243.employees where upper(first_name) like 'HERCULES%' and upper(last_name) like 'B%' \").show()"
   ]
  },
  {
   "cell_type": "markdown",
   "metadata": {},
   "source": [
    "### Q6  A list showing all employees in the Sales department, including their employee number, last name, first name, and department name."
   ]
  },
  {
   "cell_type": "code",
   "execution_count": 25,
   "metadata": {},
   "outputs": [
    {
     "name": "stdout",
     "output_type": "stream",
     "text": [
      "+---------+------+---------+-----------+---------+\n",
      "|dept_name|emp_no|last_name| first_name|dept_name|\n",
      "+---------+------+---------+-----------+---------+\n",
      "|    Sales|111035|Kaelbling|Przemyslawa|    Sales|\n",
      "|    Sales|111133|    Zhang|      Hauke|    Sales|\n",
      "+---------+------+---------+-----------+---------+\n",
      "\n"
     ]
    }
   ],
   "source": [
    "spark.sql(\"select d.dept_name,ee.emp_no,ee.last_name,ee.first_name,dept_name from anabig114243.employees ee join anabig114243.dept_managers dm on ee.emp_no=dm.emp_no join anabig114243.departments d on d.dept_no=dm.dept_no where upper(d.dept_name) like 'SALES%'\").show()"
   ]
  },
  {
   "cell_type": "markdown",
   "metadata": {},
   "source": [
    "### Q7  A list showing all employees in the Sales and Development departments, including their employee number, last name,first name, and department name."
   ]
  },
  {
   "cell_type": "code",
   "execution_count": 26,
   "metadata": {},
   "outputs": [
    {
     "name": "stdout",
     "output_type": "stream",
     "text": [
      "+-----------+------+---------+-----------+\n",
      "|  dept_name|emp_no|last_name| first_name|\n",
      "+-----------+------+---------+-----------+\n",
      "|development|110511| Hagimont|   DeForest|\n",
      "|development|110567| DasSarma|       Leon|\n",
      "|      Sales|111035|Kaelbling|Przemyslawa|\n",
      "|      Sales|111133|    Zhang|      Hauke|\n",
      "+-----------+------+---------+-----------+\n",
      "\n"
     ]
    }
   ],
   "source": [
    "spark.sql(\"select d.dept_name,ee.emp_no,ee.last_name,ee.first_name from anabig114243.employees ee join anabig114243.dept_managers dm on ee.emp_no=dm.emp_no join anabig114243.departments d on d.dept_no=dm.dept_no where upper(d.dept_name) like 'SALES%' or upper(d.dept_name) like 'DEVELOPMENT%'\").show()"
   ]
  },
  {
   "attachments": {},
   "cell_type": "markdown",
   "metadata": {},
   "source": [
    "### Q8  select last_name,count(last_name)as counts from employees group by last_name having counts>1 order by counts desc "
   ]
  },
  {
   "cell_type": "code",
   "execution_count": 27,
   "metadata": {},
   "outputs": [
    {
     "name": "stdout",
     "output_type": "stream",
     "text": [
      "+-----------+------+\n",
      "|  last_name|counts|\n",
      "+-----------+------+\n",
      "|       Baba|   226|\n",
      "|     Gelosh|   223|\n",
      "|      Coorg|   223|\n",
      "|    Sudbeck|   222|\n",
      "|     Farris|   222|\n",
      "|     Adachi|   221|\n",
      "|     Osgood|   220|\n",
      "|     Masada|   218|\n",
      "|     Neiman|   218|\n",
      "|    Mandell|   218|\n",
      "|Boudaillier|   217|\n",
      "|    Wendorf|   217|\n",
      "|     Pettis|   216|\n",
      "|   Cummings|   216|\n",
      "|     Mahnke|   216|\n",
      "|    Solares|   216|\n",
      "|     Emmart|   215|\n",
      "|    Kulisch|   215|\n",
      "|   Birjandi|   215|\n",
      "| Maksimenko|   215|\n",
      "+-----------+------+\n",
      "only showing top 20 rows\n",
      "\n"
     ]
    }
   ],
   "source": [
    " spark.sql(\"select last_name,count(last_name)as counts from anabig114243.employees group by last_name having counts>1 order by counts desc\").show()"
   ]
  },
  {
   "cell_type": "markdown",
   "metadata": {},
   "source": [
    "### Q9 Histogram to show the salary distribution among the employees "
   ]
  },
  {
   "cell_type": "code",
   "execution_count": 36,
   "metadata": {},
   "outputs": [],
   "source": [
    "var1=spark.sql(\"select salary,emp_no from anabig114243.salaries group by salary,emp_no\")\n",
    "var2=var1.toPandas()\n"
   ]
  },
  {
   "cell_type": "code",
   "execution_count": 33,
   "metadata": {},
   "outputs": [],
   "source": [
    "import matplotlib.pyplot as plt"
   ]
  },
  {
   "cell_type": "code",
   "execution_count": 35,
   "metadata": {},
   "outputs": [
    {
     "data": {
      "text/plain": [
       "(array([1.51743e+05, 5.37790e+04, 4.10980e+04, 2.73130e+04, 1.55650e+04,\n",
       "        7.20900e+03, 2.48700e+03, 6.69000e+02, 1.43000e+02, 1.80000e+01]),\n",
       " array([ 40000. ,  48949.2,  57898.4,  66847.6,  75796.8,  84746. ,\n",
       "         93695.2, 102644.4, 111593.6, 120542.8, 129492. ]),\n",
       " <a list of 10 Patch objects>)"
      ]
     },
     "execution_count": 35,
     "metadata": {},
     "output_type": "execute_result"
    },
    {
     "data": {
      "image/png": "[encoded data removed]",
      "text/plain": [
       "<Figure size 432x288 with 1 Axes>"
      ]
     },
     "metadata": {
      "needs_background": "light"
     },
     "output_type": "display_data"
    }
   ],
   "source": [
    "plt.hist(var2['salary'])"
   ]
  },
  {
   "cell_type": "markdown",
   "metadata": {},
   "source": [
    "### Q10 Bar graph to show the Average salary per title (designation)"
   ]
  },
  {
   "cell_type": "code",
   "execution_count": 45,
   "metadata": {},
   "outputs": [],
   "source": [
    "var3=spark.sql(\"select tt.title,round(avg(s.salary)) as sal from anabig114243.salaries s join anabig114243.employees ee on s.emp_no=ee.emp_no join titles tt on ee.emp_titles_id=tt.title_id group by tt.title\")\n",
    "var4=var3.toPandas()"
   ]
  },
  {
   "cell_type": "code",
   "execution_count": 46,
   "metadata": {},
   "outputs": [
    {
     "data": {
      "text/plain": [
       "<matplotlib.axes._subplots.AxesSubplot at 0x7f2106d7aad0>"
      ]
     },
     "execution_count": 46,
     "metadata": {},
     "output_type": "execute_result"
    },
    {
     "data": {
      "image/png": "[encoded data removed]",
      "text/plain": [
       "<Figure size 432x288 with 1 Axes>"
      ]
     },
     "metadata": {
      "needs_background": "light"
     },
     "output_type": "display_data"
    }
   ],
   "source": [
    "var4.plot.bar(x='title', y=('sal')) "
   ]
  },
  {
   "cell_type": "code",
   "execution_count": null,
   "metadata": {},
   "outputs": [],
   "source": []
  }
 ],
 "metadata": {
  "kernelspec": {
   "display_name": "Python 3",
   "language": "python",
   "name": "python3"
  },
  "language_info": {
   "codemirror_mode": {
    "name": "ipython",
    "version": 3
   },
   "file_extension": ".py",
   "mimetype": "text/x-python",
   "name": "python",
   "nbconvert_exporter": "python",
   "pygments_lexer": "ipython3",
   "version": "3.7.6"
  }
 },
 "nbformat": 4,
 "nbformat_minor": 4
}
